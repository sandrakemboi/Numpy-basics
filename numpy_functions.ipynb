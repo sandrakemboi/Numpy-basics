{
 "cells": [
  {
   "cell_type": "code",
   "execution_count": null,
   "metadata": {},
   "outputs": [],
   "source": [
    "#There are several numpy functions useful in my data science journey.\n",
    "#np.reshape()==>It allows one to change the shape/dimensions of any array without altering it's data.\n",
    "#Rule:The total number of elements in the old array must match the new shape.Used to change 1D array to 2D array.\n",
    "import numpy as np"
   ]
  },
  {
   "cell_type": "code",
   "execution_count": 5,
   "metadata": {},
   "outputs": [
    {
     "name": "stdout",
     "output_type": "stream",
     "text": [
      "[1 2 3 4 5 6 7 8]\n",
      "[[1 2 3 4]\n",
      " [5 6 7 8]]\n",
      "[[[1 2]\n",
      "  [3 4]]\n",
      "\n",
      " [[5 6]\n",
      "  [7 8]]]\n"
     ]
    }
   ],
   "source": [
    "array1 = np.array([1,2,3,4,5,6,7,8])\n",
    "print(array1)#2D arrays have a row and column information.\n",
    "array_reshape = np.reshape(array1,(2,4))\n",
    "print(array_reshape)#The elements of the first array should be equal to the second\n",
    "array_3d = np.reshape(array1,(2,2,2))\n",
    "print(array_3d)"
   ]
  },
  {
   "cell_type": "code",
   "execution_count": 9,
   "metadata": {},
   "outputs": [
    {
     "name": "stdout",
     "output_type": "stream",
     "text": [
      "[17 25 18 15 21 10 14 10 14 24 18 28 20 29 21]\n"
     ]
    },
    {
     "data": {
      "text/plain": [
       "np.int32(29)"
      ]
     },
     "execution_count": 9,
     "metadata": {},
     "output_type": "execute_result"
    }
   ],
   "source": [
    "#np.max:It return the maximum number in the array.Either the array is 2d,3d or d.\n",
    "array_random =np.random.randint(10,30,15)\n",
    "print(array_random)\n",
    "np.max(array_random)"
   ]
  },
  {
   "cell_type": "code",
   "execution_count": 15,
   "metadata": {},
   "outputs": [
    {
     "name": "stdout",
     "output_type": "stream",
     "text": [
      "[[ 7 17 13 12]\n",
      " [15 12 16 18]\n",
      " [ 9  8 13 18]\n",
      " [16 13  8 16]\n",
      " [10  5  5  9]]\n",
      "18\n"
     ]
    }
   ],
   "source": [
    "arrayrandom2 =np.random.randint(5,20, (5,4))\n",
    "print(arrayrandom2)\n",
    "maximumval =np.max(arrayrandom2)\n",
    "print(maximumval)"
   ]
  },
  {
   "cell_type": "code",
   "execution_count": null,
   "metadata": {},
   "outputs": [
    {
     "name": "stdout",
     "output_type": "stream",
     "text": [
      "[16 17 16 18]\n",
      "[17 18 18 16 10]\n"
     ]
    }
   ],
   "source": [
    "#How to find maximum values as per row/column\n",
    "maximum_col = np.max(arrayrandom2, axis=0)#0 stands for column direction\n",
    "print(maximum_col)\n",
    "maximum_row = np.max(arrayrandom2, axis=1)#Where axis = 1 stands row direction.\n",
    "print(maximum_row)"
   ]
  },
  {
   "cell_type": "code",
   "execution_count": null,
   "metadata": {},
   "outputs": [],
   "source": []
  }
 ],
 "metadata": {
  "kernelspec": {
   "display_name": "Python 3",
   "language": "python",
   "name": "python3"
  },
  "language_info": {
   "codemirror_mode": {
    "name": "ipython",
    "version": 3
   },
   "file_extension": ".py",
   "mimetype": "text/x-python",
   "name": "python",
   "nbconvert_exporter": "python",
   "pygments_lexer": "ipython3",
   "version": "3.13.2"
  }
 },
 "nbformat": 4,
 "nbformat_minor": 2
}
